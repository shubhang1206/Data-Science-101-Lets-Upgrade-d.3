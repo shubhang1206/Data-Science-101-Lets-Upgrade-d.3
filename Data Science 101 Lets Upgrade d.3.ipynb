{
 "cells": [
  {
   "cell_type": "markdown",
   "metadata": {},
   "source": [
    "# Assignment No. 3"
   ]
  },
  {
   "cell_type": "markdown",
   "metadata": {},
   "source": [
    "Q1.) Create a numpy array starting from 2 till 50 with a stepsize of 3"
   ]
  },
  {
   "cell_type": "code",
   "execution_count": 2,
   "metadata": {},
   "outputs": [],
   "source": [
    "import numpy as np"
   ]
  },
  {
   "cell_type": "code",
   "execution_count": 3,
   "metadata": {},
   "outputs": [
    {
     "name": "stdout",
     "output_type": "stream",
     "text": [
      "[ 2  5  8 11 14 17 20 23 26 29 32 35 38 41 44 47 50]\n"
     ]
    }
   ],
   "source": [
    "print(np.arange(2, 51, 3))"
   ]
  },
  {
   "cell_type": "markdown",
   "metadata": {},
   "source": [
    "Q2.) Accept two lists of 5 elements each from the user.\n",
    "Convert them to numpy arrays. Concatenate these arrays and print it. Also sort these arrays and print it."
   ]
  },
  {
   "cell_type": "code",
   "execution_count": 4,
   "metadata": {},
   "outputs": [
    {
     "name": "stdout",
     "output_type": "stream",
     "text": [
      "2\n",
      "4\n",
      "6\n",
      "8\n",
      "10\n",
      "List one : [2, 4, 6, 8, 10]\n",
      "1\n",
      "3\n",
      "5\n",
      "7\n",
      "9\n",
      "List Two [1, 3, 5, 7, 9]\n",
      "List to array convert 1 : [ 2  4  6  8 10]\n",
      "List to array convert 2 : [1 3 5 7 9]\n",
      "concatenation of arrays are : [ 2  4  6  8 10  1  3  5  7  9]\n",
      "Sorted array : [ 1  2  3  4  5  6  7  8  9 10]\n"
     ]
    }
   ],
   "source": [
    "import numpy as np\n",
    "\n",
    "list_one = []\n",
    "list_two = []\n",
    "\n",
    "for i in range(5):\n",
    "    my_input = int(input())\n",
    "    list_one.append(my_input)\n",
    "\n",
    "print(\"List one :\",list_one)\n",
    "\n",
    "for i in range(5):\n",
    "    my_input = int(input())\n",
    "    list_two.append(my_input)\n",
    "\n",
    "print(\"List Two\", list_two)\n",
    "\n",
    "# conversion of List to Array\n",
    "\n",
    "array_one = np.array(list_one)\n",
    "array_two = np.array(list_two)\n",
    "print(\"List to array convert 1 :\", array_one)\n",
    "print(\"List to array convert 2 :\", array_two)\n",
    "\n",
    "# concatenation of arrays\n",
    "\n",
    "array_concat = np.concatenate((array_one, array_two))\n",
    "\n",
    "print(\"concatenation of arrays are :\", array_concat)\n",
    "\n",
    "# Sorting of array\n",
    "\n",
    "print(\"Sorted array :\", np.sort(array_concat))"
   ]
  },
  {
   "cell_type": "markdown",
   "metadata": {},
   "source": [
    "Q3.)\n",
    "Write a code snippet to find the dimensions of a ndarray and its size"
   ]
  },
  {
   "cell_type": "code",
   "execution_count": 5,
   "metadata": {},
   "outputs": [
    {
     "name": "stdout",
     "output_type": "stream",
     "text": [
      "calculating Dimensions of a nd array is : 2\n",
      "Size of an array is : 12\n"
     ]
    }
   ],
   "source": [
    "import numpy as np\n",
    "\n",
    "array_one = np.array([[1, 3, 5], [2, 4, 6], [1, 3, 5], [2, 4, 6]])\n",
    "print(\"calculating Dimensions of a nd array is :\", array_one.ndim)\n",
    "\n",
    "print(\"Size of an array is :\", array_one.size)"
   ]
  },
  {
   "cell_type": "markdown",
   "metadata": {},
   "source": [
    "Q4.)How to convert a 1D array into a 2D array? Demonstrate with the help of a code snippet."
   ]
  },
  {
   "cell_type": "code",
   "execution_count": 6,
   "metadata": {},
   "outputs": [
    {
     "name": "stdout",
     "output_type": "stream",
     "text": [
      "5\n",
      "Test 1D array (shape) : (5,)\n",
      "Test` 2D array for row is : (1, 5)\n",
      "Test` 2D array for column is : (5, 1)\n"
     ]
    }
   ],
   "source": [
    "import numpy as np\n",
    "\n",
    "arr = np.arange(int(input()))\n",
    "print(\"Test 1D array (shape) :\", arr.shape)\n",
    "\n",
    "two_d_array_row = arr[np.newaxis]\n",
    "print(\"Test` 2D array for row is :\", two_d_array_row.shape)\n",
    "\n",
    "two_d_array_col = arr[:, np.newaxis]\n",
    "print(\"Test` 2D array for column is :\", two_d_array_col.shape)"
   ]
  },
  {
   "cell_type": "markdown",
   "metadata": {},
   "source": [
    "Q5.)Consider two square numpy arrays. Stack them vertically and horizontally."
   ]
  },
  {
   "cell_type": "code",
   "execution_count": 7,
   "metadata": {},
   "outputs": [
    {
     "name": "stdout",
     "output_type": "stream",
     "text": [
      " horizontally stacked : [   1   16   25   64 8281   36    9  225   49   25   81   36   16    0\n",
      "   16   25   49   36   81   64   16   25   36]\n",
      "vertically stacked :  [   1   16   25   64 8281   36    9  225   49   25   81   36   16    0\n",
      "   16   25   49   36   81   64   16   25   36]\n"
     ]
    }
   ],
   "source": [
    "import numpy as np\n",
    "\n",
    "array_one = np.square([1, 4, 5, 8, 91, 6, 3, 15, 7, 5, 9, 6, 4, 0])  # square of numpy array\n",
    "array_two = np.square([4, 5, 7, 6, 9, 8, 4, 5, 6])  # square of numpy array\n",
    "\n",
    "\n",
    "print(\" horizontally stacked :\", np.hstack((array_one, array_two)))\n",
    "\n",
    "print(\"vertically stacked : \", np.hstack((array_one, array_two)))"
   ]
  },
  {
   "cell_type": "markdown",
   "metadata": {},
   "source": [
    "Q6.)How to get unique items and counts of unique items?"
   ]
  },
  {
   "cell_type": "code",
   "execution_count": 8,
   "metadata": {},
   "outputs": [
    {
     "name": "stdout",
     "output_type": "stream",
     "text": [
      "[[4 3]\n",
      " [5 2]\n",
      " [6 1]\n",
      " [7 1]\n",
      " [8 1]\n",
      " [9 1]]\n"
     ]
    }
   ],
   "source": [
    "import numpy as np\n",
    "\n",
    "arr = np.array([4, 7, 8, 9, 5, 6, 5, 4, 4])\n",
    "\n",
    "unique, counts = np.unique(arr, return_counts=True)\n",
    "arr = np.asarray((unique, counts)).T\n",
    "print(arr)"
   ]
  },
  {
   "cell_type": "markdown",
   "metadata": {},
   "source": [
    "# Thank you"
   ]
  }
 ],
 "metadata": {
  "kernelspec": {
   "display_name": "Python 3",
   "language": "python",
   "name": "python3"
  },
  "language_info": {
   "codemirror_mode": {
    "name": "ipython",
    "version": 3
   },
   "file_extension": ".py",
   "mimetype": "text/x-python",
   "name": "python",
   "nbconvert_exporter": "python",
   "pygments_lexer": "ipython3",
   "version": "3.8.3"
  }
 },
 "nbformat": 4,
 "nbformat_minor": 4
}
